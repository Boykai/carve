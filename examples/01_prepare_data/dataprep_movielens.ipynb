{
 "cells": [
  {
   "cell_type": "markdown",
   "metadata": {},
   "source": [
    "<i>Licensed under the MIT License.</i>"
   ]
  },
  {
   "cell_type": "markdown",
   "metadata": {},
   "source": [
    "# Data Preperation - Movielens 25M Dataset with Visual Enrichment\n",
    "\n",
    "## Movielens 25M Dataset\n",
    "This dataset leverages the [Movielens 25M Dataset](https://grouplens.org/datasets/movielens/25m/) describes 5-star rating and free-text tagging activity from MovieLens, a movie recommendation service. It contains 25000095 ratings and 1093360 tag applications across 62423 movies. These data were created by 162541 users between January 09, 1995 and November 21, 2019. This dataset was generated on November 21, 2019.\n",
    "\n",
    "Users were selected at random for inclusion. All selected users had rated at least 20 movies. No demographic information is included. Each user is represented by an id, and no other information is provided.\n",
    "\n",
    "The data are contained in the files genome-scores.csv, genome-tags.csv, links.csv, movies.csv, ratings.csv and tags.csv. More details about the contents and use of all these files follows.\n",
    "\n",
    "## Visual Enrichment\n",
    "The \"tmdbId\" column from the Movielens Dataset is utilized via the [The Movie Database (TMDb) API](https://www.themoviedb.org/documentation/api), in which the cooresponding movie poster url and image file are stored for later use in the enrichment process.\n",
    "\n",
    "Once movie posters for each movie are retrived, each movie poster image is sent to [Azure Computer Vision](https://docs.microsoft.com/en-us/azure/cognitive-services/computer-vision/overview) for analysis and metadata generation. The resulting features are then used to finally enrich the Movielens Dataset:\n",
    "* [Categories](https://docs.microsoft.com/en-us/azure/cognitive-services/computer-vision/concept-categorizing-images)\n",
    "* [Color](https://docs.microsoft.com/en-us/azure/cognitive-services/computer-vision/concept-detecting-color-schemes)\n",
    "* [Tags](https://docs.microsoft.com/en-us/azure/cognitive-services/computer-vision/concept-tagging-images)\n",
    "* [Description](https://docs.microsoft.com/en-us/azure/cognitive-services/computer-vision/concept-describing-images)\n",
    "* [Celebrities](https://docs.microsoft.com/en-us/azure/cognitive-services/computer-vision/concept-detecting-domain-content)"
   ]
  },
  {
   "cell_type": "markdown",
   "metadata": {},
   "source": [
    "## Data Schema\n",
    "### User Ids\n",
    "MovieLens users were selected at random for inclusion. Their ids have been anonymized. User ids are consistent between ratings.csv and tags.csv (i.e., the same id refers to the same user across the two files).\n",
    "\n",
    "### Movie Ids\n",
    "Only movies with at least one rating or tag are included in the dataset. These movie ids are consistent with those used on the MovieLens web site (e.g., id 1 corresponds to the URL https://movielens.org/movies/1). Movie ids are consistent between ratings.csv, tags.csv, movies.csv, and links.csv (i.e., the same id refers to the same movie across these four data files).\n",
    "\n",
    "### Ratings Data File Structure (ratings.csv)\n",
    "All ratings are contained in the file ratings.csv. Each line of this file after the header row represents one rating of one movie by one user, and has the following format:\n",
    "> userId,movieId,rating,timestamp\n",
    "\n",
    "The lines within this file are ordered first by userId, then, within user, by movieId.\n",
    "Ratings are made on a 5-star scale, with half-star increments (0.5 stars - 5.0 stars).\n",
    "Timestamps represent seconds since midnight Coordinated Universal Time (UTC) of January 1, 1970.\n",
    "\n",
    "### Tags Data File Structure (tags.csv)\n",
    "All tags are contained in the file tags.csv. Each line of this file after the header row represents one tag applied to one movie by one user, and has the following format:\n",
    "> userId,movieId,tag,timestamp\n",
    "\n",
    "The lines within this file are ordered first by userId, then, within user, by movieId.\n",
    "Tags are user-generated metadata about movies. Each tag is typically a single word or short phrase. The meaning, value, and purpose of a particular tag is determined by each user.\n",
    "Timestamps represent seconds since midnight Coordinated Universal Time (UTC) of January 1, 1970.\n",
    "\n",
    "### Movies Data File Structure (movies.csv)\n",
    "Movie information is contained in the file movies.csv. Each line of this file after the header row represents one movie, and has the following format:\n",
    "> movieId,title,genres\n",
    "\n",
    "Movie titles are entered manually or imported from https://www.themoviedb.org/, and include the year of release in parentheses. Errors and inconsistencies may exist in these titles.\n",
    "\n",
    "Genres are a pipe-separated list, and are selected from the following:\n",
    "* Action\n",
    "* Adventure\n",
    "* Animation\n",
    "* Children's\n",
    "* Comedy\n",
    "* Crime\n",
    "* Documentary\n",
    "* Drama\n",
    "* Fantasy\n",
    "* Film-Noir\n",
    "* Horror\n",
    "* Musical\n",
    "* Mystery\n",
    "* Romance\n",
    "* Sci-Fi\n",
    "* Thriller\n",
    "* War\n",
    "* Western\n",
    "* (no genres listed)*\n",
    "\n",
    "### Links Data File Structure (links.csv)\n",
    "Identifiers that can be used to link to other sources of movie data are contained in the file links.csv. Each line of this file after the header row represents one movie, and has the following format:\n",
    "> movieId,imdbId,tmdbId\n",
    "\n",
    "movieId is an identifier for movies used by https://movielens.org. E.g., the movie Toy Story has the link https://movielens.org/movies/1.\n",
    "imdbId is an identifier for movies used by http://www.imdb.com. E.g., the movie Toy Story has the link http://www.imdb.com/title/tt0114709/.\n",
    "tmdbId is an identifier for movies used by https://www.themoviedb.org. E.g., the movie Toy Story has the link https://www.themoviedb.org/movie/862.\n",
    "Use of the resources listed above is subject to the terms of each provider.\n",
    "\n",
    "### Categories\n",
    "In addition to tags and a description, Computer Vision returns the taxonomy-based categories detected in an image. Unlike tags, categories are organized in a parent/child hereditary hierarchy, and there are fewer of them (86, as opposed to thousands of tags). All category names are in English. Categorization can be done by itself or alongside the newer tags model.\n",
    "\n",
    "Computer vision can categorize an image broadly or specifically, using the list of 86 categories in the following diagram. For the full taxonomy in text format, see [Category Taxonomy](https://docs.microsoft.com/en-us/azure/cognitive-services/computer-vision/category-taxonomy).\n",
    "\n",
    "### Color\n",
    "Computer Vision analyzes the colors in an image to provide three different attributes: the dominant foreground color, the dominant background color, and the larger set of dominant colors in the image. The set of possible returned colors is: black, blue, brown, gray, green, orange, pink, purple, red, teal, white, and yellow.\n",
    "\n",
    "Computer Vision also extracts an accent color, which represents the most vibrant color in the image, based on a combination of the dominant color set and saturation. The accent color is returned as a hexadecimal HTML color code (for example, #00CC00).\n",
    "\n",
    "### Tags\n",
    "Computer Vision can return content tags for thousands of recognizable objects, living beings, scenery, and actions that appear in images. Tags are not organized as a taxonomy and do not have inheritance hierarchies. A collection of content tags forms the foundation for an image description displayed as human readable language formatted in complete sentences. When tags are ambiguous or not common knowledge, the API response provides hints to clarify the meaning of the tag in context of a known setting.\n",
    "\n",
    "After you upload an image or specify an image URL, the Computer Vision algorithm can output tags based on the objects, living beings, and actions identified in the image. Tagging is not limited to the main subject, such as a person in the foreground, but also includes the setting (indoor or outdoor), furniture, tools, plants, animals, accessories, gadgets, and so on.\n",
    "\n",
    "### Description\n",
    "Computer Vision can analyze an image and generate a human-readable phrase that describes its contents. The algorithm returns several descriptions based on different visual features, and each description is given a confidence score. The final output is a list of descriptions ordered from highest to lowest confidence.\n",
    "\n",
    "At this time, English is the only supported language for image description.\n",
    "\n",
    "### Celebrities\n",
    "In addition to tagging and high-level categorization, Computer Vision also supports further domain-specific analysis using models that have been trained on specialized data.\n",
    "\n",
    "There are two ways to use the domain-specific models: by themselves (scoped analysis) or as an enhancement to the categorization feature."
   ]
  },
  {
   "cell_type": "markdown",
   "metadata": {},
   "source": [
    "## Importing Dataset | Movielens 25M"
   ]
  },
  {
   "cell_type": "markdown",
   "metadata": {},
   "source": [
    "### Prerequisites\n",
    "1) [Download raw dataset of Movielens 25M](https://files.grouplens.org/datasets/movielens/ml-25m.zip)\n",
    "\n",
    "2) Unzip files\n",
    "\n",
    "3) Copy files into \"carve/datasets/ml-25m/\""
   ]
  },
  {
   "cell_type": "code",
   "execution_count": null,
   "metadata": {},
   "outputs": [],
   "source": [
    "import sys\n",
    "import pandas as pd\n",
    "import numpy as np\n",
    "import datetime\n",
    "import math\n",
    "import requests\n",
    "import json\n",
    "import dask.dataframe as dd\n",
    "\n",
    "print(\"System version: {}\".format(sys.version))"
   ]
  },
  {
   "cell_type": "code",
   "execution_count": null,
   "metadata": {},
   "outputs": [],
   "source": [
    "# Dataset sample size - change to 0 for full dataset\n",
    "SAMPLE_SIZE = 100"
   ]
  },
  {
   "cell_type": "code",
   "execution_count": null,
   "metadata": {},
   "outputs": [],
   "source": [
    "df_genome_scores = pd.read_csv(\"../../carve/datasets/ml-25m/genome-scores.csv\")\n",
    "df_genome_tags = pd.read_csv(\"../../carve/datasets/ml-25m/genome-tags.csv\")\n",
    "df_links = pd.read_csv(\"../../carve/datasets/ml-25m/links.csv\")\n",
    "df_movies = pd.read_csv(\"../../carve/datasets/ml-25m/movies.csv\")\n",
    "df_ratings = pd.read_csv(\"../../carve/datasets/ml-25m/ratings.csv\")\n",
    "df_tags = pd.read_csv(\"../../carve/datasets/ml-25m/tags.csv\")"
   ]
  },
  {
   "cell_type": "code",
   "execution_count": null,
   "metadata": {},
   "outputs": [],
   "source": [
    "df_genome_scores.head()"
   ]
  },
  {
   "cell_type": "code",
   "execution_count": null,
   "metadata": {},
   "outputs": [],
   "source": [
    "df_genome_tags.head()"
   ]
  },
  {
   "cell_type": "code",
   "execution_count": null,
   "metadata": {},
   "outputs": [],
   "source": [
    "df_links.head()"
   ]
  },
  {
   "cell_type": "code",
   "execution_count": null,
   "metadata": {},
   "outputs": [],
   "source": [
    "df_movies.head()"
   ]
  },
  {
   "cell_type": "code",
   "execution_count": null,
   "metadata": {},
   "outputs": [],
   "source": [
    "df_ratings.head()"
   ]
  },
  {
   "cell_type": "code",
   "execution_count": null,
   "metadata": {},
   "outputs": [],
   "source": [
    "df_tags.head()"
   ]
  },
  {
   "cell_type": "code",
   "execution_count": null,
   "metadata": {},
   "outputs": [],
   "source": [
    "print(f\"Movies: {df_movies.shape}\")\n",
    "print(f\"Links: {df_links.shape}\")"
   ]
  },
  {
   "cell_type": "code",
   "execution_count": null,
   "metadata": {},
   "outputs": [],
   "source": [
    "if SAMPLE_SIZE != 0:\n",
    "    df_movies = df_movies.sample(n=SAMPLE_SIZE, random_state=0)\n",
    "    df_movies.reset_index(inplace=True)\n",
    "\n",
    "    checkpoint_file = f\"../../carve/datasets/ml-25m/poster-urls-{SAMPLE_SIZE}.csv\"\n",
    "    output_file = f\"../../carve/datasets/ml-25m/carve-movielens-{SAMPLE_SIZE}.csv\"\n",
    "    print(f\"Movies: {df_movies.shape}\")\n",
    "else:\n",
    "    checkpoint_file = f\"../../carve/datasets/ml-25m/poster-urls.csv\"\n",
    "    output_file = f\"../../carve/datasets/ml-25m/carve-movielens.csv\""
   ]
  },
  {
   "cell_type": "code",
   "execution_count": null,
   "metadata": {},
   "outputs": [],
   "source": [
    "# Join \"movies\" and \"links\" datasets, on Movielens's \"movieId\"\n",
    "df = df_movies.set_index(\"movieId\").join(df_links.set_index(\"movieId\"))\n",
    "print(f\"Dataframe: {df.shape}\")"
   ]
  },
  {
   "cell_type": "code",
   "execution_count": null,
   "metadata": {},
   "outputs": [],
   "source": [
    "df.reset_index(inplace=True)\n",
    "df.head()"
   ]
  },
  {
   "cell_type": "code",
   "execution_count": null,
   "metadata": {},
   "outputs": [],
   "source": [
    "# Drop missing values\n",
    "print(df.isnull().sum())\n",
    "df = df.dropna()"
   ]
  },
  {
   "cell_type": "code",
   "execution_count": null,
   "metadata": {},
   "outputs": [],
   "source": [
    "print(df.isnull().sum())"
   ]
  },
  {
   "cell_type": "code",
   "execution_count": null,
   "metadata": {},
   "outputs": [],
   "source": [
    "# Type correct \"tmdbId\" as Integer\n",
    "df[\"tmdbId\"].astype(\"int\")"
   ]
  },
  {
   "cell_type": "markdown",
   "metadata": {},
   "source": [
    "## Getting Movie Image Url | The Movie Database API\n",
    "\n",
    "Leverages [The Movie Database API](https://www.themoviedb.org/documentation/api). "
   ]
  },
  {
   "cell_type": "code",
   "execution_count": null,
   "metadata": {},
   "outputs": [],
   "source": [
    "def getMovieImageUrl(tmdb_id):\n",
    "    \"\"\"\n",
    "    TODO: Function description\n",
    "    \"\"\"\n",
    "    try:\n",
    "        print(f\"Processing {tmdb_id}...\")\n",
    "        TMDB_API_KEY = \"<API-KEY>\"\n",
    "        image_prefix = \"https://image.tmdb.org/t/p/\"\n",
    "\n",
    "        # Get The Movie Database poster art for given Movielens \"tmdbId\"\n",
    "        response = requests.get(f\"https://api.themoviedb.org/3/movie/{tmdb_id}/images?api_key={TMDB_API_KEY}\")\n",
    "        images = response.json()\n",
    "\n",
    "        # Gets full size images of movie poster art\n",
    "        poster = f\"{image_prefix}original{images['posters'][0]['file_path']}\"\n",
    "\n",
    "        print(f\"Success {tmdb_id}.\")\n",
    "        return poster\n",
    "    except:\n",
    "        print(f\"Failure {tmdb_id}.\")\n",
    "        return None\n"
   ]
  },
  {
   "cell_type": "code",
   "execution_count": null,
   "metadata": {},
   "outputs": [],
   "source": [
    "# For each The Movie Database \"tmdbId\" in Movielens Dataset, get movie poster art url\n",
    "\"\"\"\n",
    "Uncomment the below code to download images locally. Currently, image files are not\n",
    "used in the data enrichment process but may be desired for other use-cases.\n",
    "\"\"\"\n",
    "#df[\"posterUrl\"] = df[\"tmdbId\"].map(lambda x: getMovieImageUrl(x))"
   ]
  },
  {
   "cell_type": "code",
   "execution_count": null,
   "metadata": {},
   "outputs": [],
   "source": [
    "df.head()"
   ]
  },
  {
   "cell_type": "code",
   "execution_count": null,
   "metadata": {},
   "outputs": [],
   "source": [
    "#Save checkpoint for new dataset\n",
    "df.to_csv(checkpoint_file)"
   ]
  },
  {
   "cell_type": "markdown",
   "metadata": {},
   "source": [
    "## Downloading Movie Poster Art | The Movie Database API"
   ]
  },
  {
   "cell_type": "code",
   "execution_count": null,
   "metadata": {},
   "outputs": [],
   "source": [
    "def downloadMovieImage(img_url):\n",
    "    \"\"\"\n",
    "    TODO: Function description\n",
    "    \"\"\"\n",
    "    try:\n",
    "        print(f\"Processing {img}...\")\n",
    "\n",
    "        # Download The Movie Database image files for given image url\n",
    "        img = requests.get(img_url)\n",
    "        img_file = img_url.split(\"/\")[-1]\n",
    "        img_path = f\"../../carve/datasets/ml-25m/images/{img_file}\"\n",
    "\n",
    "        # Save movie poster as local image\n",
    "        with open(img_path, \"wb\") as f:\n",
    "            f.write(img.content)\n",
    "\n",
    "        print(f\"Success {img}.\")\n",
    "        return img_path\n",
    "    except:\n",
    "        print(f\"Failure {img}.\")\n",
    "        return None"
   ]
  },
  {
   "cell_type": "code",
   "execution_count": null,
   "metadata": {},
   "outputs": [],
   "source": [
    "# Drop missing values\n",
    "print(df.isnull().sum())\n",
    "df = df.dropna()"
   ]
  },
  {
   "cell_type": "code",
   "execution_count": null,
   "metadata": {},
   "outputs": [],
   "source": [
    "print(df.isnull().sum())"
   ]
  },
  {
   "cell_type": "code",
   "execution_count": null,
   "metadata": {},
   "outputs": [],
   "source": [
    "# For each The Movie Database \"posterUrl\" in Movielens Dataset, get movie poster art image file\n",
    "df[\"posterPath\"] = df[\"posterUrl\"].map(lambda x: downloadMovieImage(x))"
   ]
  },
  {
   "cell_type": "code",
   "execution_count": null,
   "metadata": {},
   "outputs": [],
   "source": [
    "# Drop missing values\n",
    "print(df.isnull().sum())\n",
    "df = df.dropna()"
   ]
  },
  {
   "cell_type": "code",
   "execution_count": null,
   "metadata": {},
   "outputs": [],
   "source": [
    "print(df.isnull().sum())"
   ]
  },
  {
   "cell_type": "code",
   "execution_count": null,
   "metadata": {},
   "outputs": [],
   "source": [
    "#Save checkpoint for new dataset\n",
    "df.to_csv(checkpoint_file)"
   ]
  },
  {
   "cell_type": "markdown",
   "metadata": {},
   "source": [
    "## Visual Enrichment - Azure Computer Vision"
   ]
  },
  {
   "cell_type": "code",
   "execution_count": null,
   "metadata": {},
   "outputs": [],
   "source": [
    "def getComputerVision(img):\n",
    "    \"\"\"\n",
    "    TODO: Function description\n",
    "    \"\"\"\n",
    "    headers = {\n",
    "        \"Content-Type\": \"application/json\",\n",
    "        \"Ocp-Apim-Subscription-Key\": \"<API-KEY>\",\n",
    "    }\n",
    "\n",
    "    params = {\n",
    "        \"visualFeatures\": \"Color,Tags,Categories,Objects,Description\",\n",
    "        \"language\": \"en\",\n",
    "        \"model-version\": \"latest\",\n",
    "        \"details\": \"Celebrities\",\n",
    "    }\n",
    "\n",
    "    data = {\n",
    "        \"url\": img\n",
    "    }\n",
    "    \n",
    "    try:\n",
    "        print(f\"Processing {img}...\")\n",
    "        url = \"https://eastus.api.cognitive.microsoft.com/vision/v3.2/analyze\"\n",
    "        response = requests.post(url, headers=headers, params=params, json=data)\n",
    "        \n",
    "        json_path = f\"ml-25m/jsons/{img.split('/')[-1].split('.')[0]}.json\"\n",
    "        json_response = response.json()\n",
    "        with open(json_path, \"w\") as f:\n",
    "            json.dump(json_response, f)\n",
    "        \n",
    "        print(f\"Success {img}.\")\n",
    "        return json_response\n",
    "    except Exception as e:\n",
    "        print(f\"Failure {img}. {e}\")\n",
    "        return None"
   ]
  },
  {
   "cell_type": "code",
   "execution_count": null,
   "metadata": {},
   "outputs": [],
   "source": [
    "df[\"posterJson\"] = df[\"posterUrl\"].map(lambda x: getComputerVision(x))"
   ]
  },
  {
   "cell_type": "code",
   "execution_count": null,
   "metadata": {},
   "outputs": [],
   "source": [
    "print(df.isnull().sum())\n",
    "df = df.dropna()"
   ]
  },
  {
   "cell_type": "code",
   "execution_count": null,
   "metadata": {},
   "outputs": [],
   "source": [
    "#Save checkpoint for new dataset\n",
    "df.to_csv(checkpoint_file)"
   ]
  },
  {
   "cell_type": "code",
   "execution_count": null,
   "metadata": {},
   "outputs": [],
   "source": [
    "def getCategories(data):\n",
    "    \"\"\"\n",
    "    \"\"\"\n",
    "    try:        \n",
    "        return list(set([x[\"name\"] for x in data[\"categories\"][:]]))[:3]\n",
    "    except:\n",
    "        return None"
   ]
  },
  {
   "cell_type": "code",
   "execution_count": null,
   "metadata": {},
   "outputs": [],
   "source": [
    "def getColor(data):\n",
    "    \"\"\"\n",
    "    \"\"\"\n",
    "    try:\n",
    "        results = []\n",
    "\n",
    "        x = data[\"color\"]\n",
    "        results.append(x[\"dominantColorForeground\"])\n",
    "        results.append(x[\"dominantColorBackground\"])\n",
    "        \n",
    "        for dominant in x[\"dominantColors\"]:\n",
    "            results.append(dominant)\n",
    "\n",
    "        return list(set(results))[:3]\n",
    "    except:\n",
    "        return None"
   ]
  },
  {
   "cell_type": "code",
   "execution_count": null,
   "metadata": {},
   "outputs": [],
   "source": [
    "def getTags(data):\n",
    "    \"\"\"\n",
    "    \"\"\"\n",
    "    try:        \n",
    "        return list(set([x[\"name\"] for x in data[\"tags\"][:]]))[:3]\n",
    "    except:\n",
    "        return None"
   ]
  },
  {
   "cell_type": "code",
   "execution_count": null,
   "metadata": {},
   "outputs": [],
   "source": [
    "def getDescription(data):\n",
    "    \"\"\"\n",
    "    \"\"\"\n",
    "    try:\n",
    "        return list(set([x for x in data[\"description\"][\"tags\"]]))[:3]\n",
    "    except:\n",
    "        return None"
   ]
  },
  {
   "cell_type": "code",
   "execution_count": null,
   "metadata": {},
   "outputs": [],
   "source": [
    "def getCelebrities(data):\n",
    "    \"\"\"\n",
    "    \"\"\"\n",
    "    try:\n",
    "        results = []\n",
    "\n",
    "        for x in data[\"categories\"]:\n",
    "            for y in x[\"detail\"][\"celebrities\"]:\n",
    "                results.append(y)\n",
    "\n",
    "        return list(set(results))\n",
    "    except:\n",
    "        return None"
   ]
  },
  {
   "cell_type": "code",
   "execution_count": null,
   "metadata": {},
   "outputs": [],
   "source": [
    "df[\"categories\"]= pd.Series()\n",
    "df[\"color\"]= pd.Series()\n",
    "df[\"tags\"]= pd.Series()\n",
    "df[\"description\"]= pd.Series()\n",
    "#df[\"celebrities\"]= \"\"\n",
    "\n",
    "for i in range(len(df[\"posterPath\"])):\n",
    "    try:\n",
    "        poster_path = df[\"posterPath\"][i]\n",
    "        json_path = f\"../../carve/datasets/ml-25m/jsons/{poster_path.split('/')[-1].split('.')[0]}.json\"\n",
    "\n",
    "        with open(json_path) as f:\n",
    "            data = json.load(f)\n",
    "\n",
    "        df[\"categories\"][i] = getCategories(data)\n",
    "        df[\"color\"][i] = getColor(data)\n",
    "        df[\"tags\"][i] = getTags(data)\n",
    "        df[\"description\"][i] = getDescription(data)\n",
    "        #df[\"celebrities\"][i] = getCelebrities(data)\n",
    "    except Exception as e:\n",
    "        pass"
   ]
  },
  {
   "cell_type": "code",
   "execution_count": null,
   "metadata": {},
   "outputs": [],
   "source": [
    "df.head()"
   ]
  },
  {
   "cell_type": "code",
   "execution_count": null,
   "metadata": {},
   "outputs": [],
   "source": [
    "# Drop missing values\n",
    "print(df.isnull().sum())\n",
    "df = df.dropna()"
   ]
  },
  {
   "cell_type": "code",
   "execution_count": null,
   "metadata": {},
   "outputs": [],
   "source": [
    "#Save checkpoint for new dataset\n",
    "df.to_csv(checkpoint_file)"
   ]
  },
  {
   "cell_type": "code",
   "execution_count": null,
   "metadata": {},
   "outputs": [],
   "source": [
    "# Join \"poster-urls\" and \"ratings\" datasets, on Movielens's \"movieId\"\n",
    "df = df.set_index(\"movieId\").join(df_ratings.set_index(\"movieId\"))\n",
    "print(f\"Dataframe: {df.shape}\")"
   ]
  },
  {
   "cell_type": "code",
   "execution_count": null,
   "metadata": {},
   "outputs": [],
   "source": [
    "df.reset_index(inplace=True)\n",
    "df.head()"
   ]
  },
  {
   "cell_type": "code",
   "execution_count": null,
   "metadata": {},
   "outputs": [],
   "source": [
    "# Drop missing values\n",
    "print(df.isnull().sum())\n",
    "df = df.dropna()"
   ]
  },
  {
   "cell_type": "code",
   "execution_count": null,
   "metadata": {},
   "outputs": [],
   "source": [
    "df = df.drop([\"posterUrl\", \"posterPath\"], axis=1)"
   ]
  },
  {
   "cell_type": "code",
   "execution_count": null,
   "metadata": {},
   "outputs": [],
   "source": [
    "#Save checkpoint for new dataset\n",
    "df.to_csv(output_file)"
   ]
  },
  {
   "cell_type": "code",
   "execution_count": null,
   "metadata": {},
   "outputs": [],
   "source": [
    "df.head()"
   ]
  },
  {
   "cell_type": "code",
   "execution_count": null,
   "metadata": {},
   "outputs": [],
   "source": [
    "def transformGenre(data):\n",
    "    \"\"\"\n",
    "    \"\"\"\n",
    "    try:\n",
    "        return f\"[{', '.join(data.split('|'))}]\"\n",
    "    except:\n",
    "        None"
   ]
  },
  {
   "cell_type": "code",
   "execution_count": null,
   "metadata": {},
   "outputs": [],
   "source": [
    "def splitCategorical(data, num):\n",
    "    \"\"\"\n",
    "    \"\"\"\n",
    "    try:\n",
    "        data_list = data.replace(\"[\", \"\").replace(\"]\", \"\").replace(\"'\", \"\").split(\",\")\n",
    "        return data_list[num]\n",
    "    except:\n",
    "        return None"
   ]
  },
  {
   "cell_type": "code",
   "execution_count": null,
   "metadata": {},
   "outputs": [],
   "source": [
    "#Transform genres column to comma seperated string instead of pipe\n",
    "df[\"genres\"] = df[\"genres\"].map(lambda x: transformGenre(x))"
   ]
  },
  {
   "cell_type": "code",
   "execution_count": null,
   "metadata": {},
   "outputs": [],
   "source": [
    "categorical_cols = [\"genres\", \"categories\", \"color\", \"tags\", \"description\"]\n",
    "categorical_length = 5\n",
    "\n",
    "for cat in categorical_cols:\n",
    "    #Create empty columns for splitting \n",
    "    for i in range(categorical_length):\n",
    "        new_col = f\"{cat}_{i}\"\n",
    "        \n",
    "        #Split categorical Series columns\n",
    "        df[new_col] = df[cat].map(lambda x: splitCategorical(x, i))\n",
    "\n",
    "df.head()"
   ]
  },
  {
   "cell_type": "code",
   "execution_count": null,
   "metadata": {},
   "outputs": [],
   "source": [
    "df.columns"
   ]
  },
  {
   "cell_type": "code",
   "execution_count": null,
   "metadata": {},
   "outputs": [],
   "source": [
    "#Drop empty columns\n",
    "df.dropna(how='all', axis=1, inplace=True)\n",
    "df = df.drop([\"Unnamed: 0\", \"title\", \"genres\", \"categories\", \"color\", \"tags\", \"description\", \"imdbId\", \"tmdbId\"], axis=1)"
   ]
  },
  {
   "cell_type": "code",
   "execution_count": null,
   "metadata": {},
   "outputs": [],
   "source": [
    "df.columns"
   ]
  },
  {
   "cell_type": "code",
   "execution_count": null,
   "metadata": {},
   "outputs": [],
   "source": [
    "df.head()"
   ]
  },
  {
   "cell_type": "code",
   "execution_count": null,
   "metadata": {},
   "outputs": [],
   "source": [
    "df.to_csv(output_file)"
   ]
  }
 ],
 "metadata": {
  "interpreter": {
   "hash": "dc7f84238e46f2d072c968594e24b0589e9226683d9a55eb2ed173e38203d807"
  },
  "kernelspec": {
   "display_name": "Python 3.7.13 ('carve37')",
   "language": "python",
   "name": "python3"
  },
  "language_info": {
   "codemirror_mode": {
    "name": "ipython",
    "version": 3
   },
   "file_extension": ".py",
   "mimetype": "text/x-python",
   "name": "python",
   "nbconvert_exporter": "python",
   "pygments_lexer": "ipython3",
   "version": "3.7.13"
  },
  "orig_nbformat": 4
 },
 "nbformat": 4,
 "nbformat_minor": 2
}
